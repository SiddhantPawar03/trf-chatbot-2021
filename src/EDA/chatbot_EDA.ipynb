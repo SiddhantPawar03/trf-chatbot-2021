{
  "nbformat": 4,
  "nbformat_minor": 0,
  "metadata": {
    "colab": {
      "name": "chatbot_EDA.ipynb",
      "provenance": []
    },
    "kernelspec": {
      "name": "python3",
      "display_name": "Python 3"
    },
    "language_info": {
      "name": "python"
    }
  },
  "cells": [
    {
      "cell_type": "markdown",
      "source": [
        "##Dependencies"
      ],
      "metadata": {
        "id": "GVgz92znRx__"
      }
    },
    {
      "cell_type": "code",
      "execution_count": null,
      "metadata": {
        "id": "f6lZuyRqK73U"
      },
      "outputs": [],
      "source": [
        "import json \n",
        "import numpy as np \n",
        "from random import choice\n",
        "from collections import Counter\n",
        "import pandas as pd \n",
        "import seaborn as sns \n",
        "import matplotlib.pyplot as plt "
      ]
    },
    {
      "cell_type": "code",
      "source": [
        "from google.colab import drive \n",
        "drive.mount('/content/drive')"
      ],
      "metadata": {
        "colab": {
          "base_uri": "https://localhost:8080/"
        },
        "id": "yoi_7g5mLOcL",
        "outputId": "f5755b06-dbcd-426f-d3e6-3c7232785b97"
      },
      "execution_count": null,
      "outputs": [
        {
          "output_type": "stream",
          "name": "stdout",
          "text": [
            "Mounted at /content/drive\n"
          ]
        }
      ]
    },
    {
      "cell_type": "markdown",
      "source": [
        "##Importing Data"
      ],
      "metadata": {
        "id": "EWeaj3X6Rh2W"
      }
    },
    {
      "cell_type": "code",
      "source": [
        "path = '/content/drive/MyDrive/Robosoft-ML/Chatbot/new_intents.json'"
      ],
      "metadata": {
        "id": "2KEoxjvoLifa"
      },
      "execution_count": null,
      "outputs": []
    },
    {
      "cell_type": "code",
      "source": [
        "with open(path) as file : \n",
        "  data = json.load(file)"
      ],
      "metadata": {
        "id": "vT5MALosMKjp"
      },
      "execution_count": null,
      "outputs": []
    },
    {
      "cell_type": "code",
      "source": [
        "training_sentences = [] \n",
        "training_labels = [] \n",
        "labels = [] \n",
        "responses = [] \n",
        "\n",
        "for intent in data['intents'] : \n",
        "  for pattern in intent['patterns']:\n",
        "    training_sentences.append(pattern) \n",
        "    training_labels.append(intent['tag'])\n",
        "  responses.append(intent['responses']) \n",
        "\n",
        "  labels.append(intent['tag'])\n",
        "\n",
        "num_classes = len(labels)\n"
      ],
      "metadata": {
        "id": "xggEiswdMPrn"
      },
      "execution_count": null,
      "outputs": []
    },
    {
      "cell_type": "markdown",
      "source": [
        "##Data Overview"
      ],
      "metadata": {
        "id": "dIplqu9GRm2U"
      }
    },
    {
      "cell_type": "code",
      "source": [
        "print(\"Labels : \" , labels)\n",
        "print(\"\\nNumber of Classes : \" , num_classes)\n",
        "print(\"\\nTotal Training Sentences : \" , len(training_sentences))"
      ],
      "metadata": {
        "colab": {
          "base_uri": "https://localhost:8080/"
        },
        "id": "mninCdWGNEk_",
        "outputId": "c1bf7bcc-8ef8-4d5b-d1d2-5d6a7c4086ba"
      },
      "execution_count": null,
      "outputs": [
        {
          "output_type": "stream",
          "name": "stdout",
          "text": [
            "Labels :  ['About TRF', 'Greeting', 'Goodbye_Thanks', 'About', 'Robocon', 'Part of TRF ']\n",
            "\n",
            "Number of Classes :  6\n",
            "\n",
            "Total Training Sentences :  78\n"
          ]
        }
      ]
    },
    {
      "cell_type": "code",
      "source": [
        "for i in range(10):\n",
        "  print(choice(training_sentences))"
      ],
      "metadata": {
        "colab": {
          "base_uri": "https://localhost:8080/"
        },
        "id": "6FJ5YSD1NNJ7",
        "outputId": "1c2a76d1-ec78-4e36-b1ca-1176f3d0c8e5"
      },
      "execution_count": null,
      "outputs": [
        {
          "output_type": "stream",
          "name": "stdout",
          "text": [
            "What is TRF working for?\n",
            "What are the processes to becoming a TRF member?\n",
            "TRF Recruitmemt\n",
            "What are the selection process for the robocon team?\n",
            "Wonderful Bot\n",
            "How does TRF recruit?\n",
            "What is TRF's desire?\n",
            "Help me in joining TRF\n",
            "What is your name?\n",
            "What's the motive of TRF?\n"
          ]
        }
      ]
    },
    {
      "cell_type": "code",
      "source": [
        "responses"
      ],
      "metadata": {
        "colab": {
          "base_uri": "https://localhost:8080/"
        },
        "id": "jTfxtr34Nq5P",
        "outputId": "4d20f369-c102-4cf5-c7f2-7e7f13008e35"
      },
      "execution_count": null,
      "outputs": [
        {
          "output_type": "execute_result",
          "data": {
            "text/plain": [
              "[[\"The Robotics Forum is VIT Pune's premier robotics club, with a 15-year legacy. Students from various engineering disciplines make up our varied community, all of whom are driven by a passion for robotics. The goal of the team is to gain new skills, explore new technologies, and promote the area of robotics.\"],\n",
              " ['Hello', 'Hi', 'Hi there', ' Hey, how can I help you?'],\n",
              " ['See you later',\n",
              "  'Have a nice day',\n",
              "  'Bye! Come back again',\n",
              "  'Happy to help!',\n",
              "  'Any time!',\n",
              "  'My pleasure',\n",
              "  \"You're most welcome!\"],\n",
              " [\"I’m XYZ , your TRF assistant bot. I'm a NLP based bot made as a collaboration project of the ML and the Web team.\",\n",
              "  \"I'm XYZ, an Artificial Intelligent bot based on NLP. I m here to provide you information about TRF and Robosoft. I was developed by the ML team and deployed by the Web team.\"],\n",
              " ['TRF participates in the ABU Robocon every year. In this competition robots built by different teams compete to perform a given task within a time frame. Anyone who is a member of TRF can be a part of the Robocon team irrespective of domain. Our team made a arrow shooting bot using MATLAB and cleared the stage 1 and stage 2 of the competition. '],\n",
              " ['\\r\\nEvery year TRF conducts its recruitment process around the end of academic year. This process is for Mechanical , Electrical , Programming as well as the Admin team. The details about the entire process is informed well before the registration and ample preparation time is provided to the students,. ']]"
            ]
          },
          "metadata": {},
          "execution_count": 19
        }
      ]
    },
    {
      "cell_type": "code",
      "source": [
        "labels.sort()\n",
        "labels"
      ],
      "metadata": {
        "colab": {
          "base_uri": "https://localhost:8080/"
        },
        "id": "G2mM9I_KTKop",
        "outputId": "81ce17fb-f687-4b42-d02c-7f5a9c537596"
      },
      "execution_count": null,
      "outputs": [
        {
          "output_type": "execute_result",
          "data": {
            "text/plain": [
              "['About', 'About TRF', 'Goodbye_Thanks', 'Greeting', 'Part of TRF ', 'Robocon']"
            ]
          },
          "metadata": {},
          "execution_count": 36
        }
      ]
    },
    {
      "cell_type": "code",
      "source": [
        "label_instances = Counter(training_labels)\n",
        "label_instances"
      ],
      "metadata": {
        "colab": {
          "base_uri": "https://localhost:8080/"
        },
        "id": "UrjyMSv7OglJ",
        "outputId": "495c1e39-d8f9-4d57-82f0-5ac0db232177"
      },
      "execution_count": null,
      "outputs": [
        {
          "output_type": "execute_result",
          "data": {
            "text/plain": [
              "Counter({'About': 9,\n",
              "         'About TRF': 15,\n",
              "         'Goodbye_Thanks': 18,\n",
              "         'Greeting': 12,\n",
              "         'Part of TRF ': 14,\n",
              "         'Robocon': 10})"
            ]
          },
          "metadata": {},
          "execution_count": 39
        }
      ]
    },
    {
      "cell_type": "code",
      "source": [
        "count_ins = [] \n",
        "\n",
        "for i in labels : \n",
        "  count_ins.append(label_instances[i])\n",
        "\n",
        "count_ins "
      ],
      "metadata": {
        "colab": {
          "base_uri": "https://localhost:8080/"
        },
        "id": "6MD_poh5URTi",
        "outputId": "bcb28468-88ba-41eb-c120-737ce9e855fe"
      },
      "execution_count": null,
      "outputs": [
        {
          "output_type": "execute_result",
          "data": {
            "text/plain": [
              "[9, 15, 18, 12, 14, 10]"
            ]
          },
          "metadata": {},
          "execution_count": 40
        }
      ]
    },
    {
      "cell_type": "markdown",
      "source": [
        "##Data Analysis"
      ],
      "metadata": {
        "id": "1Qfm9h5cR8Ln"
      }
    },
    {
      "cell_type": "code",
      "source": [
        "training_df = pd.DataFrame(training_sentences , columns = ['text'])"
      ],
      "metadata": {
        "id": "yBA9fRQBQGZC"
      },
      "execution_count": null,
      "outputs": []
    },
    {
      "cell_type": "code",
      "source": [
        "training_df.head()"
      ],
      "metadata": {
        "colab": {
          "base_uri": "https://localhost:8080/",
          "height": 206
        },
        "id": "7Xw-7kJoQCjD",
        "outputId": "487d1747-7c59-48c2-934c-8ca45184ad25"
      },
      "execution_count": null,
      "outputs": [
        {
          "output_type": "execute_result",
          "data": {
            "text/html": [
              "\n",
              "  <div id=\"df-37b571bb-e7e4-4f18-bd74-b406d1f63580\">\n",
              "    <div class=\"colab-df-container\">\n",
              "      <div>\n",
              "<style scoped>\n",
              "    .dataframe tbody tr th:only-of-type {\n",
              "        vertical-align: middle;\n",
              "    }\n",
              "\n",
              "    .dataframe tbody tr th {\n",
              "        vertical-align: top;\n",
              "    }\n",
              "\n",
              "    .dataframe thead th {\n",
              "        text-align: right;\n",
              "    }\n",
              "</style>\n",
              "<table border=\"1\" class=\"dataframe\">\n",
              "  <thead>\n",
              "    <tr style=\"text-align: right;\">\n",
              "      <th></th>\n",
              "      <th>text</th>\n",
              "    </tr>\n",
              "  </thead>\n",
              "  <tbody>\n",
              "    <tr>\n",
              "      <th>0</th>\n",
              "      <td>What is TRF?</td>\n",
              "    </tr>\n",
              "    <tr>\n",
              "      <th>1</th>\n",
              "      <td>What's the motive of TRF?</td>\n",
              "    </tr>\n",
              "    <tr>\n",
              "      <th>2</th>\n",
              "      <td>What exactly is TRF?</td>\n",
              "    </tr>\n",
              "    <tr>\n",
              "      <th>3</th>\n",
              "      <td>What specifically is TRF?</td>\n",
              "    </tr>\n",
              "    <tr>\n",
              "      <th>4</th>\n",
              "      <td>What necessarily is TRF?</td>\n",
              "    </tr>\n",
              "  </tbody>\n",
              "</table>\n",
              "</div>\n",
              "      <button class=\"colab-df-convert\" onclick=\"convertToInteractive('df-37b571bb-e7e4-4f18-bd74-b406d1f63580')\"\n",
              "              title=\"Convert this dataframe to an interactive table.\"\n",
              "              style=\"display:none;\">\n",
              "        \n",
              "  <svg xmlns=\"http://www.w3.org/2000/svg\" height=\"24px\"viewBox=\"0 0 24 24\"\n",
              "       width=\"24px\">\n",
              "    <path d=\"M0 0h24v24H0V0z\" fill=\"none\"/>\n",
              "    <path d=\"M18.56 5.44l.94 2.06.94-2.06 2.06-.94-2.06-.94-.94-2.06-.94 2.06-2.06.94zm-11 1L8.5 8.5l.94-2.06 2.06-.94-2.06-.94L8.5 2.5l-.94 2.06-2.06.94zm10 10l.94 2.06.94-2.06 2.06-.94-2.06-.94-.94-2.06-.94 2.06-2.06.94z\"/><path d=\"M17.41 7.96l-1.37-1.37c-.4-.4-.92-.59-1.43-.59-.52 0-1.04.2-1.43.59L10.3 9.45l-7.72 7.72c-.78.78-.78 2.05 0 2.83L4 21.41c.39.39.9.59 1.41.59.51 0 1.02-.2 1.41-.59l7.78-7.78 2.81-2.81c.8-.78.8-2.07 0-2.86zM5.41 20L4 18.59l7.72-7.72 1.47 1.35L5.41 20z\"/>\n",
              "  </svg>\n",
              "      </button>\n",
              "      \n",
              "  <style>\n",
              "    .colab-df-container {\n",
              "      display:flex;\n",
              "      flex-wrap:wrap;\n",
              "      gap: 12px;\n",
              "    }\n",
              "\n",
              "    .colab-df-convert {\n",
              "      background-color: #E8F0FE;\n",
              "      border: none;\n",
              "      border-radius: 50%;\n",
              "      cursor: pointer;\n",
              "      display: none;\n",
              "      fill: #1967D2;\n",
              "      height: 32px;\n",
              "      padding: 0 0 0 0;\n",
              "      width: 32px;\n",
              "    }\n",
              "\n",
              "    .colab-df-convert:hover {\n",
              "      background-color: #E2EBFA;\n",
              "      box-shadow: 0px 1px 2px rgba(60, 64, 67, 0.3), 0px 1px 3px 1px rgba(60, 64, 67, 0.15);\n",
              "      fill: #174EA6;\n",
              "    }\n",
              "\n",
              "    [theme=dark] .colab-df-convert {\n",
              "      background-color: #3B4455;\n",
              "      fill: #D2E3FC;\n",
              "    }\n",
              "\n",
              "    [theme=dark] .colab-df-convert:hover {\n",
              "      background-color: #434B5C;\n",
              "      box-shadow: 0px 1px 3px 1px rgba(0, 0, 0, 0.15);\n",
              "      filter: drop-shadow(0px 1px 2px rgba(0, 0, 0, 0.3));\n",
              "      fill: #FFFFFF;\n",
              "    }\n",
              "  </style>\n",
              "\n",
              "      <script>\n",
              "        const buttonEl =\n",
              "          document.querySelector('#df-37b571bb-e7e4-4f18-bd74-b406d1f63580 button.colab-df-convert');\n",
              "        buttonEl.style.display =\n",
              "          google.colab.kernel.accessAllowed ? 'block' : 'none';\n",
              "\n",
              "        async function convertToInteractive(key) {\n",
              "          const element = document.querySelector('#df-37b571bb-e7e4-4f18-bd74-b406d1f63580');\n",
              "          const dataTable =\n",
              "            await google.colab.kernel.invokeFunction('convertToInteractive',\n",
              "                                                     [key], {});\n",
              "          if (!dataTable) return;\n",
              "\n",
              "          const docLinkHtml = 'Like what you see? Visit the ' +\n",
              "            '<a target=\"_blank\" href=https://colab.research.google.com/notebooks/data_table.ipynb>data table notebook</a>'\n",
              "            + ' to learn more about interactive tables.';\n",
              "          element.innerHTML = '';\n",
              "          dataTable['output_type'] = 'display_data';\n",
              "          await google.colab.output.renderOutput(dataTable, element);\n",
              "          const docLink = document.createElement('div');\n",
              "          docLink.innerHTML = docLinkHtml;\n",
              "          element.appendChild(docLink);\n",
              "        }\n",
              "      </script>\n",
              "    </div>\n",
              "  </div>\n",
              "  "
            ],
            "text/plain": [
              "                        text\n",
              "0               What is TRF?\n",
              "1  What's the motive of TRF?\n",
              "2       What exactly is TRF?\n",
              "3  What specifically is TRF?\n",
              "4   What necessarily is TRF?"
            ]
          },
          "metadata": {},
          "execution_count": 50
        }
      ]
    },
    {
      "cell_type": "markdown",
      "source": [
        "Label Wise Count"
      ],
      "metadata": {
        "id": "lDFqVQNtVCFM"
      }
    },
    {
      "cell_type": "code",
      "source": [
        "sns.set(font_scale = 1.5) \n",
        "plt.figure(figsize = (18,10)) \n",
        "\n",
        "ax= sns.barplot(x = labels, y = count_ins , palette = 'mako')\n",
        "\n",
        "plt.title(\"Label Wise Count\", fontsize=24)\n",
        "plt.ylabel('Count', fontsize=16)\n",
        "plt.xlabel('Label', fontsize=16)\n",
        "\n",
        "rects = ax.patches\n",
        "\n",
        "for rect, label in zip(rects, count_ins):\n",
        "    height = rect.get_height()\n",
        "    ax.text(rect.get_x() + rect.get_width()/2, height + 0.1, label, ha='center', va='bottom', fontsize=18)\n",
        "\n",
        "plt.show()\n"
      ],
      "metadata": {
        "colab": {
          "base_uri": "https://localhost:8080/",
          "height": 399
        },
        "id": "mTNoq0v2Ogob",
        "outputId": "2187accf-e6cf-4009-dcba-fa2ea8d8f2e3"
      },
      "execution_count": null,
      "outputs": [
        {
          "output_type": "display_data",
          "data": {
            "image/png": "[encoded data removed]",
            "text/plain": [
              "<Figure size 1296x720 with 1 Axes>"
            ]
          },
          "metadata": {}
        }
      ]
    },
    {
      "cell_type": "code",
      "source": [
        ""
      ],
      "metadata": {
        "id": "EStzkMmxT3xh"
      },
      "execution_count": null,
      "outputs": []
    },
    {
      "cell_type": "markdown",
      "source": [
        "Training Sentence Length"
      ],
      "metadata": {
        "id": "fDi2rBDvVEXT"
      }
    },
    {
      "cell_type": "code",
      "source": [
        "# number of characters in each sentence\n",
        "char_len = training_df['text'].str.len()\n",
        "plt.figure(figsize=(15,8))\n",
        "plt.yticks(range(0,20,2))\n",
        "plt.hist(char_len )\n",
        "plt.title(\"Character Count\", fontsize=20)\n",
        "plt.ylabel('Count', fontsize=12)\n",
        "plt.xlabel('Number of Characters', fontsize=12)\n",
        "plt.show()"
      ],
      "metadata": {
        "colab": {
          "base_uri": "https://localhost:8080/",
          "height": 394
        },
        "id": "qpWs5vBbVF64",
        "outputId": "31d52e67-b163-4dc6-e79b-56cdb1fd1498"
      },
      "execution_count": null,
      "outputs": [
        {
          "output_type": "display_data",
          "data": {
            "image/png": "[encoded data removed]",
            "text/plain": [
              "<Figure size 1080x576 with 1 Axes>"
            ]
          },
          "metadata": {}
        }
      ]
    },
    {
      "cell_type": "code",
      "source": [
        "word_len = (training_df['text'].str.split().map(lambda x : len(x)))\n",
        "\n",
        "\n",
        "plt.figure(figsize=(15,8))\n",
        "plt.yticks(range(0,20,2))\n",
        "plt.hist(word_len)\n",
        "plt.title(\"Word Count\", fontsize=20)\n",
        "plt.ylabel('Count', fontsize=12)\n",
        "plt.xlabel('Number of Words', fontsize=12)\n",
        "plt.show()"
      ],
      "metadata": {
        "colab": {
          "base_uri": "https://localhost:8080/",
          "height": 394
        },
        "id": "ZBa2AkzIV31x",
        "outputId": "9b5bea33-c7f0-4d30-9959-4fe12f6bc78a"
      },
      "execution_count": null,
      "outputs": [
        {
          "output_type": "display_data",
          "data": {
            "image/png": "[encoded data removed]",
            "text/plain": [
              "<Figure size 1080x576 with 1 Axes>"
            ]
          },
          "metadata": {}
        }
      ]
    },
    {
      "cell_type": "code",
      "source": [
        ""
      ],
      "metadata": {
        "id": "AyASHz86Wk7F"
      },
      "execution_count": null,
      "outputs": []
    }
  ]
}